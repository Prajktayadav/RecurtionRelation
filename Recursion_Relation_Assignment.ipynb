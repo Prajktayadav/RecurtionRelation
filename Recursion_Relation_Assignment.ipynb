{
  "nbformat": 4,
  "nbformat_minor": 0,
  "metadata": {
    "colab": {
      "provenance": []
    },
    "kernelspec": {
      "name": "python3",
      "display_name": "Python 3"
    },
    "language_info": {
      "name": "python"
    }
  },
  "cells": [
    {
      "cell_type": "code",
      "execution_count": null,
      "metadata": {
        "id": "zZu7rt_DrpZw"
      },
      "outputs": [],
      "source": [
        "#Q.1.Find the value of T(2) for the recurrence relation T(n) = 3T(n-1) + 12n, given that T(0)=5.\n",
        "\n",
        "1.T(1)=3T(0)+12(1)\n",
        "  T(1)=3(5)+12(1)\n",
        "  T(1)=15+12\n",
        "  T(1)=27\n",
        "\n",
        "2.T(2)=3T(1)+12(2)\n",
        "  T(2)=3(27)+12(2)\n",
        "  T(2)=81+24\n",
        "  T(2)=105\n",
        "\n"
      ]
    },
    {
      "cell_type": "code",
      "source": [
        "#Q.2.Given a recurrence relation, solve it using the substitution method:\n",
        "#a. T(n) = T(n-1) + c\n",
        "#b. T(n) = 2T(n/2) + n\n",
        "#c. T(n) = 2T(n/2) + c\n",
        "#d. T(n) = T(n/2) + c\n",
        "\n",
        "\n",
        "\n",
        "a.\n",
        "T(n)=T(n-1)+c\n",
        "    =[T(n-2)+c]+c\n",
        "    =T(n-2)+2c\n",
        "    =T(n-3)+3c\n",
        "    =...\n",
        "    =T(n-k)+kc\n",
        "Now ,we need to find the value of k such that n-k=0,which implies k=n.\n",
        "Therefore:\n",
        "\n",
        "           T(n) = T(0)+nc\n",
        "\n",
        "Given that T(0)is a constant ,we'll denote it as C. so,the solution to the recurrence relation is:\n",
        "\n",
        "           T(n) = C+nc\n",
        "\n",
        "\n",
        "b.\n",
        "T(n)=2T(n/2)+n\n",
        "    =2[2T(n/4)+n/2]+n\n",
        "    =2^2T(n/2^2)+2n/2+n\n",
        "    =2^3T(n/2^3)+3n/2+n\n",
        "    =...\n",
        "    =2^kT(n/2^k)+kn/2^k+n\n",
        "\n",
        "\n",
        "we need to find the value of k such that n/2^k=1,which implies k=log2(n)\n",
        "Therefore:\n",
        "           T(n)=2^log2(n)T(1)+nlog2(n)+n\n",
        "           T(n)=nT(1)+nlog2(n)+n\n",
        "\n",
        "Given that T(1) is a constant,we'll denote it as C.so,the olution to the recurrence relation is:\n",
        "          T(n)=Cn+nlog2(n)+n\n",
        "\n",
        "\n",
        "c.\n",
        "T(n)=2T(n/2)+c\n",
        "T(n)=Cn+cn\n",
        "\n",
        "d.\n",
        "T(n)=T(n/2)+c\n",
        "T(n)=C+log2(n)c\n",
        "\n"
      ],
      "metadata": {
        "id": "J9B8zcPCs2va"
      },
      "execution_count": 2,
      "outputs": []
    },
    {
      "cell_type": "code",
      "source": [
        "#Q.3.Given a recurrence relation, solve it using the recursive tree approach\n",
        "\n",
        "#a. T(n) = 2T(n-1) +1\n",
        "\n",
        "            T(n)\n",
        "           /    \\\n",
        "       T(n-1)    T(n-1)\n",
        "       /   \\      /   \\\n",
        "   T(n-2) T(n-2) T(n-2) T(n-2)\n",
        "\n",
        "To find the time complexity,we sum up the total work done at each level:\n",
        "\n",
        "Level0:1 work(atT(n))\n",
        "Level1:2 works(atT(n-1)nodes)\n",
        "Level2:4 works(atT(n-2)nodes)\n",
        "...\n",
        "Leveli:2^i works(atT(n-i)nodes)\n",
        "\n",
        "The total work done is:\n",
        "          1+2+2^2+...+2^n-1=2^n-1\n",
        "\n",
        "Therefore,the time complexity of T(n) is O(2^n).\n",
        "\n",
        "\n",
        "#b.T(n) = 2T(n/2) + n\n",
        "\n",
        "\n",
        "          T(n)\n",
        "         /    \\\n",
        "     T(n/2)    T(n/2)\n",
        "     /   \\      /   \\\n",
        " T(n/4) T(n/4) T(n/4) T(n/4)\n",
        "\n",
        "\n",
        "To find the time complexity,we sum up the total work done at each level:\n",
        "\n",
        "Level0:n work(atT(n))\n",
        "Level1:2,n/2=n work(atT(n/2)nodes)\n",
        "Level2:4.n/4=n work(atT(n/4)nodes)\n",
        "...\n",
        "Leveli:n work(atT(n/2^i)nodes)\n",
        "\n",
        "The total work done is:\n",
        "   n+n+n+...+n(for log2(n)levels)=nlog2(n)\n",
        "\n",
        "Theefore,the time complexity of T(n) is O(nlog2(n))\n",
        "\n"
      ],
      "metadata": {
        "id": "DT7DQOumvwNi"
      },
      "execution_count": null,
      "outputs": []
    }
  ]
}